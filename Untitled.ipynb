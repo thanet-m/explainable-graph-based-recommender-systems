{
 "cells": [
  {
   "cell_type": "markdown",
   "id": "18d04a5e",
   "metadata": {},
   "source": [
    "# Existing explainable graph-basedrecommender systems"
   ]
  },
  {
   "cell_type": "markdown",
   "id": "777faffe",
   "metadata": {},
   "source": []
  },
  {
   "cell_type": "markdown",
   "id": "a9c7b6f8",
   "metadata": {},
   "source": [
    "## Categorize by learning methods\n",
    "\n",
    "### Embedding-based approach\n",
    "\n",
    "\n",
    "| Model    | Learning method | Explaining method | Explanation type | Implementaion |\n",
    "| -------- | --------------- | ----------------- | ---------------- | ----------------------------------------| \n",
    "| SemAuto  | Embedding-based | Model-specific    | Node level       |  https://github.com/sisinflab/SEMAUTO     |\n",
    "\n",
    "\n",
    "\n",
    "### Path-based approach"
   ]
  },
  {
   "cell_type": "markdown",
   "id": "ac3dfcd9",
   "metadata": {},
   "source": []
  }
 ],
 "metadata": {
  "kernelspec": {
   "display_name": "Python 3 (ipykernel)",
   "language": "python",
   "name": "python3"
  },
  "language_info": {
   "codemirror_mode": {
    "name": "ipython",
    "version": 3
   },
   "file_extension": ".py",
   "mimetype": "text/x-python",
   "name": "python",
   "nbconvert_exporter": "python",
   "pygments_lexer": "ipython3",
   "version": "3.9.7"
  }
 },
 "nbformat": 4,
 "nbformat_minor": 5
}
